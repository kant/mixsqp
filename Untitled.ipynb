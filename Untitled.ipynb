{
 "cells": [
  {
   "cell_type": "code",
   "execution_count": 86,
   "metadata": {},
   "outputs": [],
   "source": [
    "using CSV\n",
    "using LowRankApprox\n",
    "include(\"mixSQP.jl\")\n",
    "#lowrank = \"nothing\"; eps = 1e-8; pqrtol = 1e-8; convtol = 1e-8; sptol = 1e-3; maxqpiter = 100; maxiter = 100;"
   ]
  },
  {
   "cell_type": "code",
   "execution_count": 112,
   "metadata": {},
   "outputs": [
    {
     "name": "stdout",
     "output_type": "stream",
     "text": [
      "  0.010645 seconds (696 allocations: 3.781 MiB)\n"
     ]
    },
    {
     "data": {
      "text/plain": [
       "19-element Array{Float64,1}:\n",
       " 200.214      \n",
       "  70.1759     \n",
       "  23.9815     \n",
       "   7.72791    \n",
       "   2.45373    \n",
       "   0.754891   \n",
       "   0.21457    \n",
       "   0.0571725  \n",
       "   0.0141126  \n",
       "   0.00304393 \n",
       "   0.000811604\n",
       "   0.000111616\n",
       "   1.82786e-5 \n",
       "   2.83389e-6 \n",
       "   1.2356e-7  \n",
       "   3.54038e-8 \n",
       "   5.0269e-10 \n",
       "   9.22603e-11\n",
       "   1.47536e-12"
      ]
     },
     "execution_count": 112,
     "metadata": {},
     "output_type": "execute_result"
    }
   ],
   "source": [
    "@time psvdfact(L)[:S]"
   ]
  },
  {
   "cell_type": "code",
   "execution_count": 113,
   "metadata": {},
   "outputs": [
    {
     "name": "stdout",
     "output_type": "stream",
     "text": [
      "Running SQP algorithm with the following settings:\n",
      "- 5000 x 20 data matrix\n",
      "- convergence tolerance = 1.00e-08\n",
      "- zero threshold        = 1.00e-03\n",
      "- partial SVD tolerance  = 1.00e-08\n",
      "- partial SVD max. error = 5.39e-08\n",
      "iter      objective -min(g+1) #nnz #qp #ls\n",
      "   1 2.95206790e+03 +1.81e-01   20   0   0\n",
      "   2 2.55805274e+03 +2.20e-01    3  10   1\n",
      "   3 2.37809188e+03 +4.08e-02    3   2   1\n",
      "   4 2.34432187e+03 +5.72e-03    3   2   1\n",
      "   5 2.33599066e+03 +2.59e-04    3   2   1\n",
      "   6 2.33556636e+03 +4.81e-07    3   2   1\n",
      "   7 2.33556553e+03 -9.52e-09    3   2   1\n",
      "Optimization took 7 iterations and 0.0258 seconds.\n"
     ]
    },
    {
     "data": {
      "text/plain": [
       "20-element SparseVector{Float64,Int64} with 3 stored entries:\n",
       "  [1 ]  =  0.469905\n",
       "  [13]  =  0.305864\n",
       "  [14]  =  0.22423"
      ]
     },
     "execution_count": 113,
     "metadata": {},
     "output_type": "execute_result"
    }
   ],
   "source": [
    "L = Array{Float64,2}(CSV.read(\"sample5000x20.txt\", nullable = false, header = false, delim = ' '));\n",
    "sparse(mixSQP(L)[\"x\"])"
   ]
  },
  {
   "cell_type": "code",
   "execution_count": 114,
   "metadata": {},
   "outputs": [
    {
     "name": "stdout",
     "output_type": "stream",
     "text": [
      "Running SQP algorithm with the following settings:\n",
      "- 100000 x 100 data matrix\n",
      "- convergence tolerance = 1.00e-08\n",
      "- zero threshold        = 1.00e-03\n",
      "- partial SVD tolerance  = 1.00e-08\n",
      "- partial SVD max. error = 5.13e-07\n",
      "iter      objective -min(g+1) #nnz #qp #ls\n",
      "   1 5.03421516e+04 +2.90e-01  100   0   0\n",
      "   2 5.03418852e+04 +2.81e-01  100  27   6\n",
      "   3 5.03385916e+04 +2.63e-01  100 100   5\n",
      "   4 5.03174243e+04 +2.32e-01  100 100   4\n",
      "   5 5.02617408e+04 +1.37e-01  100 100   2\n",
      "   6 4.90082551e+04 +3.25e-02    4 100   1\n",
      "   7 4.77381468e+04 +1.64e-03    3   9   1\n",
      "   8 4.76633865e+04 +6.78e-06    3   2   1\n",
      "   9 4.76630469e+04 -9.29e-09    3   2   1\n",
      "Optimization took 9 iterations and 0.6343 seconds.\n"
     ]
    },
    {
     "data": {
      "text/plain": [
       "100-element SparseVector{Float64,Int64} with 3 stored entries:\n",
       "  [1  ]  =  0.496888\n",
       "  [87 ]  =  0.0755946\n",
       "  [88 ]  =  0.427517"
      ]
     },
     "execution_count": 114,
     "metadata": {},
     "output_type": "execute_result"
    }
   ],
   "source": [
    "L = Array{Float64,2}(CSV.read(\"sample100000x100.txt\", nullable = false, header = false, delim = ' '));\n",
    "sparse(mixSQP(L)[\"x\"])"
   ]
  },
  {
   "cell_type": "code",
   "execution_count": 117,
   "metadata": {},
   "outputs": [
    {
     "name": "stdout",
     "output_type": "stream",
     "text": [
      "  0.132058 seconds (462 allocations: 87.191 MiB, 6.21% gc time)\n"
     ]
    },
    {
     "data": {
      "text/plain": [
       "24-element Array{Float64,1}:\n",
       " 2256.19       \n",
       "  667.713      \n",
       "  193.039      \n",
       "   53.9975     \n",
       "   15.0131     \n",
       "    4.13466    \n",
       "    1.12714    \n",
       "    0.305256   \n",
       "    0.0821667  \n",
       "    0.0221928  \n",
       "    0.00599194 \n",
       "    0.00160076 \n",
       "    0.000417541\n",
       "    0.000100821\n",
       "    2.39275e-5 \n",
       "    5.51795e-6 \n",
       "    1.19461e-6 \n",
       "    2.54737e-7 \n",
       "    5.25429e-8 \n",
       "    1.07123e-8 \n",
       "    2.09634e-9 \n",
       "    3.83339e-10\n",
       "    6.53043e-11\n",
       "    1.11286e-11"
      ]
     },
     "execution_count": 117,
     "metadata": {},
     "output_type": "execute_result"
    }
   ],
   "source": [
    "@time psvdfact(L)[:S]"
   ]
  }
 ],
 "metadata": {
  "kernelspec": {
   "display_name": "Julia 0.6.2",
   "language": "julia",
   "name": "julia-0.6"
  },
  "language_info": {
   "file_extension": ".jl",
   "mimetype": "application/julia",
   "name": "julia",
   "version": "0.6.2"
  }
 },
 "nbformat": 4,
 "nbformat_minor": 2
}
